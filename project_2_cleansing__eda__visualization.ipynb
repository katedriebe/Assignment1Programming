{
  "nbformat": 4,
  "nbformat_minor": 0,
  "metadata": {
    "colab": {
      "provenance": [],
      "include_colab_link": true
    },
    "kernelspec": {
      "name": "python3",
      "display_name": "Python 3"
    },
    "language_info": {
      "name": "python"
    }
  },
  "cells": [
    {
      "cell_type": "markdown",
      "metadata": {
        "id": "view-in-github",
        "colab_type": "text"
      },
      "source": [
        "<a href=\"https://colab.research.google.com/github/katedriebe/Assignment1Programming/blob/main/project_2_cleansing__eda__visualization.ipynb\" target=\"_parent\"><img src=\"https://colab.research.google.com/assets/colab-badge.svg\" alt=\"Open In Colab\"/></a>"
      ]
    },
    {
      "cell_type": "markdown",
      "source": [
        "# Cleansing Training & Testing Data"
      ],
      "metadata": {
        "id": "DyeaN57TMHvN"
      }
    },
    {
      "cell_type": "code",
      "execution_count": null,
      "metadata": {
        "id": "Kan09Yy6MBRj"
      },
      "outputs": [],
      "source": [
        "import pandas as pd\n",
        "import numpy as np\n",
        "import numpy as np\n",
        "import pandas as pd\n",
        "import seaborn as sns\n",
        "import matplotlib.pyplot as plt\n",
        "from sklearn.neighbors import KNeighborsRegressor\n",
        "from sklearn.neighbors import KNeighborsClassifier\n",
        "from sklearn.linear_model import LinearRegression\n",
        "from sklearn.preprocessing import PolynomialFeatures\n",
        "from sklearn.preprocessing import LabelBinarizer\n",
        "from sklearn.model_selection import train_test_split\n",
        "from sklearn.metrics import r2_score, mean_squared_error\n",
        "from sklearn import tree\n",
        "from sklearn.linear_model import LinearRegression\n",
        "from sklearn.metrics import confusion_matrix, accuracy_score\n",
        "df_train = pd.read_csv('https://raw.githubusercontent.com/aniishap/group-19/main/project_2/data/testing_data.csv')\n",
        "df_test = pd.read_csv('https://raw.githubusercontent.com/aniishap/group-19/main/project_2/data/training_data.csv')"
      ]
    },
    {
      "cell_type": "code",
      "source": [
        "df_train.isnull().sum() #  bmi column has a total of 42 missing values"
      ],
      "metadata": {
        "colab": {
          "base_uri": "https://localhost:8080/"
        },
        "id": "Qy9oeRVNNG-h",
        "outputId": "2d6dce03-6a6d-485c-ef96-b61b9d9791f4"
      },
      "execution_count": null,
      "outputs": [
        {
          "output_type": "execute_result",
          "data": {
            "text/plain": [
              "Unnamed: 0            0\n",
              "id                    0\n",
              "gender                0\n",
              "age                   0\n",
              "hypertension          0\n",
              "heart_disease         0\n",
              "ever_married          0\n",
              "work_type             0\n",
              "Residence_type        0\n",
              "avg_glucose_level     0\n",
              "bmi                  42\n",
              "smoking_status        0\n",
              "stroke                0\n",
              "dtype: int64"
            ]
          },
          "metadata": {},
          "execution_count": 19
        }
      ]
    },
    {
      "cell_type": "code",
      "source": [
        "df_test.isnull().sum() #  bmi column has a total of 159 missing values"
      ],
      "metadata": {
        "colab": {
          "base_uri": "https://localhost:8080/"
        },
        "id": "iCrISkPXOZiM",
        "outputId": "3be8fcec-ca4d-4a4e-de94-3d5e9f6ce00a"
      },
      "execution_count": null,
      "outputs": [
        {
          "output_type": "execute_result",
          "data": {
            "text/plain": [
              "Unnamed: 0             0\n",
              "id                     0\n",
              "gender                 0\n",
              "age                    0\n",
              "hypertension           0\n",
              "heart_disease          0\n",
              "ever_married           0\n",
              "work_type              0\n",
              "Residence_type         0\n",
              "avg_glucose_level      0\n",
              "bmi                  159\n",
              "smoking_status         0\n",
              "stroke                 0\n",
              "dtype: int64"
            ]
          },
          "metadata": {},
          "execution_count": 20
        }
      ]
    },
    {
      "cell_type": "code",
      "source": [
        "# To avoid introducing bias, I am going to drop the NA values from the training and testing data sets instead of imputing averages for the bmi column\n",
        "df_train.dropna(subset=['bmi'], inplace=True)\n",
        "df_test.dropna(subset=['bmi'], inplace=True)\n",
        "df_train.isnull().sum() # No more NA Values"
      ],
      "metadata": {
        "colab": {
          "base_uri": "https://localhost:8080/"
        },
        "id": "-xRW33dwQgP2",
        "outputId": "36b9690a-ee7d-4d80-ccb4-dabef304a9ed"
      },
      "execution_count": null,
      "outputs": [
        {
          "output_type": "execute_result",
          "data": {
            "text/plain": [
              "Unnamed: 0           0\n",
              "id                   0\n",
              "gender               0\n",
              "age                  0\n",
              "hypertension         0\n",
              "heart_disease        0\n",
              "ever_married         0\n",
              "work_type            0\n",
              "Residence_type       0\n",
              "avg_glucose_level    0\n",
              "bmi                  0\n",
              "smoking_status       0\n",
              "stroke               0\n",
              "dtype: int64"
            ]
          },
          "metadata": {},
          "execution_count": 21
        }
      ]
    },
    {
      "cell_type": "code",
      "source": [
        "df_test.isnull().sum() # No more NA values"
      ],
      "metadata": {
        "colab": {
          "base_uri": "https://localhost:8080/"
        },
        "id": "afO3OaXYRJFm",
        "outputId": "446c0040-4a38-4599-85c1-384311f3e695"
      },
      "execution_count": null,
      "outputs": [
        {
          "output_type": "execute_result",
          "data": {
            "text/plain": [
              "Unnamed: 0           0\n",
              "id                   0\n",
              "gender               0\n",
              "age                  0\n",
              "hypertension         0\n",
              "heart_disease        0\n",
              "ever_married         0\n",
              "work_type            0\n",
              "Residence_type       0\n",
              "avg_glucose_level    0\n",
              "bmi                  0\n",
              "smoking_status       0\n",
              "stroke               0\n",
              "dtype: int64"
            ]
          },
          "metadata": {},
          "execution_count": 22
        }
      ]
    },
    {
      "cell_type": "code",
      "source": [
        "# Drop 'Unnamed:0' and 'id' columns because they are not useful in our study\n",
        "list=['Unnamed: 0', 'id']\n",
        "df_train=df_train.drop(list,axis=1)\n",
        "df_test=df_test.drop(list,axis=1)"
      ],
      "metadata": {
        "id": "SBbNi3r8RPfx"
      },
      "execution_count": null,
      "outputs": []
    },
    {
      "cell_type": "code",
      "source": [
        "unknown_count_train = (df_train['smoking_status'] == 'Unknown').sum()\n",
        "print(unknown_count_train)\n",
        "# Do we want to drop all 'Unknown' rows?\n",
        "# There are only supposed to be 3 levels to this variable"
      ],
      "metadata": {
        "colab": {
          "base_uri": "https://localhost:8080/"
        },
        "id": "YT2oja2JT5-F",
        "outputId": "301630e2-3d3a-4741-933e-745d9ac9885b"
      },
      "execution_count": null,
      "outputs": [
        {
          "output_type": "stream",
          "name": "stdout",
          "text": [
            "288\n"
          ]
        }
      ]
    },
    {
      "cell_type": "code",
      "source": [
        "unknown_count_test = (df_test['smoking_status'] == 'Unknown').sum()\n",
        "print(unknown_count_test)"
      ],
      "metadata": {
        "colab": {
          "base_uri": "https://localhost:8080/"
        },
        "id": "MnyZYETEUvAM",
        "outputId": "34aa671f-c63d-4a4c-f46d-5694ef6da83f"
      },
      "execution_count": null,
      "outputs": [
        {
          "output_type": "stream",
          "name": "stdout",
          "text": [
            "1195\n"
          ]
        }
      ]
    },
    {
      "cell_type": "code",
      "source": [
        "# These are a lot of Unknown values, and it wouldn't make sense to drop all the rows.\n",
        "# I think in this case, we can impute average values to replace 'Unknown' because\n",
        "# smoking can be a big health influence on other factors. There could exist some\n",
        "# response bias and cases where smoking info is deliberately not recorded, so\n",
        "# to address that, we can infer the smoking status based on data from other\n",
        "# variables\n",
        "\n",
        "print(df_train)"
      ],
      "metadata": {
        "colab": {
          "base_uri": "https://localhost:8080/"
        },
        "id": "Bf1Vs5ahVKT5",
        "outputId": "e48594de-eb66-40bf-eaba-30f6684a9c24"
      },
      "execution_count": null,
      "outputs": [
        {
          "output_type": "stream",
          "name": "stdout",
          "text": [
            "      gender   age  hypertension  heart_disease ever_married      work_type  \\\n",
            "0       Male  58.0             1              0          Yes        Private   \n",
            "1     Female   8.0             0              0           No        Private   \n",
            "2     Female  70.0             0              0          Yes        Private   \n",
            "3     Female  47.0             0              0          Yes        Private   \n",
            "4     Female  74.0             1              0          Yes  Self-employed   \n",
            "...      ...   ...           ...            ...          ...            ...   \n",
            "1015  Female  48.0             0              0          Yes        Private   \n",
            "1016    Male  78.0             0              0          Yes  Self-employed   \n",
            "1019  Female  73.0             0              0          Yes  Self-employed   \n",
            "1020    Male  57.0             0              0          Yes        Private   \n",
            "1021  Female  75.0             0              0          Yes  Self-employed   \n",
            "\n",
            "     Residence_type  avg_glucose_level   bmi   smoking_status  stroke  \n",
            "0             Urban              87.96  39.2     never smoked       0  \n",
            "1             Urban             110.89  17.6          Unknown       0  \n",
            "2             Rural              69.04  35.9  formerly smoked       0  \n",
            "3             Urban             210.95  50.1          Unknown       0  \n",
            "4             Urban             205.84  54.6     never smoked       0  \n",
            "...             ...                ...   ...              ...     ...  \n",
            "1015          Urban              74.11  20.5     never smoked       1  \n",
            "1016          Urban             116.10  27.1     never smoked       1  \n",
            "1019          Urban              70.94  34.4     never smoked       1  \n",
            "1020          Urban              86.30  31.7          Unknown       1  \n",
            "1021          Rural              78.80  29.3  formerly smoked       1  \n",
            "\n",
            "[981 rows x 11 columns]\n"
          ]
        }
      ]
    },
    {
      "cell_type": "code",
      "source": [
        "sns.countplot(x='smoking_status', data=df_train)\n",
        "plt.show()\n",
        "sns.boxplot(df_train['bmi'])\n",
        "plt.show()\n",
        "sns.boxplot(df_train['age'])\n",
        "plt.show()\n",
        "sns.boxplot(df_train['avg_glucose_level'])\n",
        "plt.show()"
      ],
      "metadata": {
        "colab": {
          "base_uri": "https://localhost:8080/",
          "height": 1000
        },
        "id": "OyDnmuuVUOF_",
        "outputId": "45d8ff61-725b-4962-f542-eadd3a04e3ba"
      },
      "execution_count": null,
      "outputs": [
        {
          "output_type": "display_data",
          "data": {
            "text/plain": [
              "<Figure size 640x480 with 1 Axes>"
            ],
            "image/png": "[encoded data removed]"
          },
          "metadata": {}
        },
        {
          "output_type": "display_data",
          "data": {
            "text/plain": [
              "<Figure size 640x480 with 1 Axes>"
            ],
            "image/png": "[encoded data removed]"
          },
          "metadata": {}
        },
        {
          "output_type": "display_data",
          "data": {
            "text/plain": [
              "<Figure size 640x480 with 1 Axes>"
            ],
            "image/png": "[encoded data removed]"
          },
          "metadata": {}
        },
        {
          "output_type": "display_data",
          "data": {
            "text/plain": [
              "<Figure size 640x480 with 1 Axes>"
            ],
            "image/png": "[encoded data removed]"
          },
          "metadata": {}
        }
      ]
    },
    {
      "cell_type": "code",
      "source": [
        "#Windsorizing to BMI and avg_glucose_level to handle of outliers\n",
        "\n",
        "def windsorize(x):\n",
        "    pct25, pct75 = np.percentile(x, [25, 75])\n",
        "    iqr = pct75 - pct25\n",
        "    lower_whisker = pct25 - iqr * 1.5\n",
        "    upper_whisker = pct75 + iqr * 1.5\n",
        "    x_windsor = x.copy()\n",
        "    x_windsor[x < lower_whisker] = lower_whisker\n",
        "    x_windsor[x > upper_whisker] = upper_whisker\n",
        "    return x_windsor\n",
        "\n",
        "numeric = [\"age\", \"bmi\", \"avg_glucose_level\"]\n",
        "for i in numeric:\n",
        "  df_train[i] = windsorize(df_train[i])\n",
        "\n",
        "\n"
      ],
      "metadata": {
        "id": "oosYHESbXDoA"
      },
      "execution_count": null,
      "outputs": []
    },
    {
      "cell_type": "code",
      "source": [
        "# Creating dummy variables\n",
        "categorical_columns = ['smoking_status', 'Residence_type', 'gender', 'ever_married', 'work_type']\n",
        "df_train = pd.get_dummies(df_train, columns=categorical_columns, drop_first=True)\n",
        "\n",
        "# Check the first few rows of the updated DataFrame\n",
        "print(df_train.head())"
      ],
      "metadata": {
        "colab": {
          "base_uri": "https://localhost:8080/"
        },
        "id": "SHSmI8pz8ecm",
        "outputId": "e33305e2-d0fb-4b21-eecb-9844ef2dff66"
      },
      "execution_count": null,
      "outputs": [
        {
          "output_type": "stream",
          "name": "stdout",
          "text": [
            "    age  hypertension  heart_disease  avg_glucose_level   bmi  stroke  \\\n",
            "0  58.0             1              0              87.96  39.2       0   \n",
            "1   8.0             0              0             110.89  17.6       0   \n",
            "2  70.0             0              0              69.04  35.9       0   \n",
            "3  47.0             0              0             171.58  47.3       0   \n",
            "4  74.0             1              0             171.58  47.3       0   \n",
            "\n",
            "   smoking_status_formerly smoked  smoking_status_never smoked  \\\n",
            "0                               0                            1   \n",
            "1                               0                            0   \n",
            "2                               1                            0   \n",
            "3                               0                            0   \n",
            "4                               0                            1   \n",
            "\n",
            "   smoking_status_smokes  Residence_type_Urban  gender_Male  ever_married_Yes  \\\n",
            "0                      0                     1            1                 1   \n",
            "1                      0                     1            0                 0   \n",
            "2                      0                     0            0                 1   \n",
            "3                      0                     1            0                 1   \n",
            "4                      0                     1            0                 1   \n",
            "\n",
            "   work_type_Never_worked  work_type_Private  work_type_Self-employed  \\\n",
            "0                       0                  1                        0   \n",
            "1                       0                  1                        0   \n",
            "2                       0                  1                        0   \n",
            "3                       0                  1                        0   \n",
            "4                       0                  0                        1   \n",
            "\n",
            "   work_type_children  \n",
            "0                   0  \n",
            "1                   0  \n",
            "2                   0  \n",
            "3                   0  \n",
            "4                   0  \n"
          ]
        }
      ]
    },
    {
      "cell_type": "code",
      "source": [
        "\n",
        "#Checking\n",
        "sns.boxplot(df_train['bmi'])\n",
        "plt.show()\n",
        "sns.boxplot(df_train['age'])\n",
        "plt.show()\n",
        "sns.boxplot(df_train['avg_glucose_level'])\n",
        "plt.show()"
      ],
      "metadata": {
        "colab": {
          "base_uri": "https://localhost:8080/",
          "height": 1000
        },
        "id": "MtaRclHMZKJN",
        "outputId": "f0c6accb-aeec-4afd-b061-f0e254380df5"
      },
      "execution_count": null,
      "outputs": [
        {
          "output_type": "display_data",
          "data": {
            "text/plain": [
              "<Figure size 640x480 with 1 Axes>"
            ],
            "image/png": "[encoded data removed]"
          },
          "metadata": {}
        },
        {
          "output_type": "display_data",
          "data": {
            "text/plain": [
              "<Figure size 640x480 with 1 Axes>"
            ],
            "image/png": "[encoded data removed]"
          },
          "metadata": {}
        },
        {
          "output_type": "display_data",
          "data": {
            "text/plain": [
              "<Figure size 640x480 with 1 Axes>"
            ],
            "image/png": "[encoded data removed]"
          },
          "metadata": {}
        }
      ]
    },
    {
      "cell_type": "code",
      "source": [
        "\n",
        "\n",
        "\n"
      ],
      "metadata": {
        "colab": {
          "base_uri": "https://localhost:8080/"
        },
        "id": "THaLC1PXdOhT",
        "outputId": "898cfcf8-4a4d-4133-e002-7f7a5f10fd21"
      },
      "execution_count": null,
      "outputs": [
        {
          "output_type": "stream",
          "name": "stdout",
          "text": [
            "    age  hypertension  heart_disease  avg_glucose_level   bmi  stroke  \\\n",
            "0  58.0             1              0              87.96  39.2       0   \n",
            "1   8.0             0              0             110.89  17.6       0   \n",
            "2  70.0             0              0              69.04  35.9       0   \n",
            "3  47.0             0              0             171.58  47.3       0   \n",
            "4  74.0             1              0             171.58  47.3       0   \n",
            "\n",
            "   smoking_status_formerly smoked  smoking_status_never smoked  \\\n",
            "0                               0                            1   \n",
            "1                               0                            0   \n",
            "2                               1                            0   \n",
            "3                               0                            0   \n",
            "4                               0                            1   \n",
            "\n",
            "   smoking_status_smokes  Residence_type_Urban  gender_Male  ever_married_Yes  \\\n",
            "0                      0                     1            1                 1   \n",
            "1                      0                     1            0                 0   \n",
            "2                      0                     0            0                 1   \n",
            "3                      0                     1            0                 1   \n",
            "4                      0                     1            0                 1   \n",
            "\n",
            "   work_type_Never_worked  work_type_Private  work_type_Self-employed  \\\n",
            "0                       0                  1                        0   \n",
            "1                       0                  1                        0   \n",
            "2                       0                  1                        0   \n",
            "3                       0                  1                        0   \n",
            "4                       0                  0                        1   \n",
            "\n",
            "   work_type_children  \n",
            "0                   0  \n",
            "1                   0  \n",
            "2                   0  \n",
            "3                   0  \n",
            "4                   0  \n"
          ]
        }
      ]
    },
    {
      "cell_type": "code",
      "source": [],
      "metadata": {
        "id": "y5EzatmOZUTT"
      },
      "execution_count": null,
      "outputs": []
    }
  ]
}